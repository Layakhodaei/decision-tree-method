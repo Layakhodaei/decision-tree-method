{
 "cells": [
  {
   "cell_type": "code",
   "execution_count": 1,
   "id": "1066e8f3",
   "metadata": {},
   "outputs": [],
   "source": [
    "import numpy as np\n",
    "from sklearn.tree import DecisionTreeClassifier\n",
    "from sklearn.model_selection import train_test_split\n",
    "from sklearn.metrics import classification_report, confusion_matrix\n",
    "import matplotlib.pyplot as plt\n",
    "import pandas as pd\n",
    "from sklearn import preprocessing"
   ]
  },
  {
   "cell_type": "code",
   "execution_count": 2,
   "id": "55ed1c70",
   "metadata": {},
   "outputs": [
    {
     "data": {
      "text/plain": [
       "(8124, 23)"
      ]
     },
     "execution_count": 2,
     "metadata": {},
     "output_type": "execute_result"
    }
   ],
   "source": [
    "df = pd.read_csv(\"E:\\\\AUT\\\\Machine Learning\\\\ML_HW1\\\\Decision Tree\\\\agaricus-lepiota.csv\")\n",
    "#pd.read_excel('tmp.xlsx', index_col=0)\n",
    "df.shape"
   ]
  },
  {
   "cell_type": "code",
   "execution_count": 3,
   "id": "82aa6b28",
   "metadata": {},
   "outputs": [
    {
     "name": "stdout",
     "output_type": "stream",
     "text": [
      "<class 'pandas.core.frame.DataFrame'>\n",
      "RangeIndex: 8124 entries, 0 to 8123\n",
      "Data columns (total 23 columns):\n",
      " #   Column       Non-Null Count  Dtype \n",
      "---  ------       --------------  ----- \n",
      " 0   Unnamed: 0   8124 non-null   object\n",
      " 1   Unnamed: 1   8124 non-null   object\n",
      " 2   Unnamed: 2   8124 non-null   object\n",
      " 3   Unnamed: 3   8124 non-null   object\n",
      " 4   Unnamed: 4   8124 non-null   object\n",
      " 5   Unnamed: 5   8124 non-null   object\n",
      " 6   Unnamed: 6   8124 non-null   object\n",
      " 7   Unnamed: 7   8124 non-null   object\n",
      " 8   Unnamed: 8   8124 non-null   object\n",
      " 9   Unnamed: 9   8124 non-null   object\n",
      " 10  Unnamed: 10  8124 non-null   object\n",
      " 11  Unnamed: 11  8124 non-null   object\n",
      " 12  Unnamed: 12  8124 non-null   object\n",
      " 13  Unnamed: 13  8124 non-null   object\n",
      " 14  Unnamed: 14  8124 non-null   object\n",
      " 15  Unnamed: 15  8124 non-null   object\n",
      " 16  Unnamed: 16  8124 non-null   object\n",
      " 17  Unnamed: 17  8124 non-null   object\n",
      " 18  Unnamed: 18  8124 non-null   object\n",
      " 19  Unnamed: 19  8124 non-null   object\n",
      " 20  Unnamed: 20  8124 non-null   object\n",
      " 21  Unnamed: 21  8124 non-null   object\n",
      " 22  Unnamed: 22  8124 non-null   object\n",
      "dtypes: object(23)\n",
      "memory usage: 1.4+ MB\n"
     ]
    }
   ],
   "source": [
    "#Preproccessing \n",
    "#df.fillna(np.nan)\n",
    "df.info()"
   ]
  },
  {
   "cell_type": "code",
   "execution_count": 4,
   "id": "10135ef1",
   "metadata": {},
   "outputs": [
    {
     "data": {
      "text/html": [
       "<div>\n",
       "<style scoped>\n",
       "    .dataframe tbody tr th:only-of-type {\n",
       "        vertical-align: middle;\n",
       "    }\n",
       "\n",
       "    .dataframe tbody tr th {\n",
       "        vertical-align: top;\n",
       "    }\n",
       "\n",
       "    .dataframe thead th {\n",
       "        text-align: right;\n",
       "    }\n",
       "</style>\n",
       "<table border=\"1\" class=\"dataframe\">\n",
       "  <thead>\n",
       "    <tr style=\"text-align: right;\">\n",
       "      <th></th>\n",
       "      <th>Unnamed: 0</th>\n",
       "      <th>Unnamed: 1</th>\n",
       "      <th>Unnamed: 2</th>\n",
       "      <th>Unnamed: 3</th>\n",
       "      <th>Unnamed: 4</th>\n",
       "      <th>Unnamed: 5</th>\n",
       "      <th>Unnamed: 6</th>\n",
       "      <th>Unnamed: 7</th>\n",
       "      <th>Unnamed: 8</th>\n",
       "      <th>Unnamed: 9</th>\n",
       "      <th>...</th>\n",
       "      <th>Unnamed: 13</th>\n",
       "      <th>Unnamed: 14</th>\n",
       "      <th>Unnamed: 15</th>\n",
       "      <th>Unnamed: 16</th>\n",
       "      <th>Unnamed: 17</th>\n",
       "      <th>Unnamed: 18</th>\n",
       "      <th>Unnamed: 19</th>\n",
       "      <th>Unnamed: 20</th>\n",
       "      <th>Unnamed: 21</th>\n",
       "      <th>Unnamed: 22</th>\n",
       "    </tr>\n",
       "  </thead>\n",
       "  <tbody>\n",
       "    <tr>\n",
       "      <th>0</th>\n",
       "      <td>p</td>\n",
       "      <td>x</td>\n",
       "      <td>s</td>\n",
       "      <td>n</td>\n",
       "      <td>t</td>\n",
       "      <td>p</td>\n",
       "      <td>f</td>\n",
       "      <td>c</td>\n",
       "      <td>n</td>\n",
       "      <td>k</td>\n",
       "      <td>...</td>\n",
       "      <td>s</td>\n",
       "      <td>w</td>\n",
       "      <td>w</td>\n",
       "      <td>p</td>\n",
       "      <td>w</td>\n",
       "      <td>o</td>\n",
       "      <td>p</td>\n",
       "      <td>k</td>\n",
       "      <td>s</td>\n",
       "      <td>u</td>\n",
       "    </tr>\n",
       "    <tr>\n",
       "      <th>1</th>\n",
       "      <td>e</td>\n",
       "      <td>x</td>\n",
       "      <td>s</td>\n",
       "      <td>y</td>\n",
       "      <td>t</td>\n",
       "      <td>a</td>\n",
       "      <td>f</td>\n",
       "      <td>c</td>\n",
       "      <td>b</td>\n",
       "      <td>k</td>\n",
       "      <td>...</td>\n",
       "      <td>s</td>\n",
       "      <td>w</td>\n",
       "      <td>w</td>\n",
       "      <td>p</td>\n",
       "      <td>w</td>\n",
       "      <td>o</td>\n",
       "      <td>p</td>\n",
       "      <td>n</td>\n",
       "      <td>n</td>\n",
       "      <td>g</td>\n",
       "    </tr>\n",
       "    <tr>\n",
       "      <th>2</th>\n",
       "      <td>e</td>\n",
       "      <td>b</td>\n",
       "      <td>s</td>\n",
       "      <td>w</td>\n",
       "      <td>t</td>\n",
       "      <td>l</td>\n",
       "      <td>f</td>\n",
       "      <td>c</td>\n",
       "      <td>b</td>\n",
       "      <td>n</td>\n",
       "      <td>...</td>\n",
       "      <td>s</td>\n",
       "      <td>w</td>\n",
       "      <td>w</td>\n",
       "      <td>p</td>\n",
       "      <td>w</td>\n",
       "      <td>o</td>\n",
       "      <td>p</td>\n",
       "      <td>n</td>\n",
       "      <td>n</td>\n",
       "      <td>m</td>\n",
       "    </tr>\n",
       "    <tr>\n",
       "      <th>3</th>\n",
       "      <td>p</td>\n",
       "      <td>x</td>\n",
       "      <td>y</td>\n",
       "      <td>w</td>\n",
       "      <td>t</td>\n",
       "      <td>p</td>\n",
       "      <td>f</td>\n",
       "      <td>c</td>\n",
       "      <td>n</td>\n",
       "      <td>n</td>\n",
       "      <td>...</td>\n",
       "      <td>s</td>\n",
       "      <td>w</td>\n",
       "      <td>w</td>\n",
       "      <td>p</td>\n",
       "      <td>w</td>\n",
       "      <td>o</td>\n",
       "      <td>p</td>\n",
       "      <td>k</td>\n",
       "      <td>s</td>\n",
       "      <td>u</td>\n",
       "    </tr>\n",
       "    <tr>\n",
       "      <th>4</th>\n",
       "      <td>e</td>\n",
       "      <td>x</td>\n",
       "      <td>s</td>\n",
       "      <td>g</td>\n",
       "      <td>f</td>\n",
       "      <td>n</td>\n",
       "      <td>f</td>\n",
       "      <td>w</td>\n",
       "      <td>b</td>\n",
       "      <td>k</td>\n",
       "      <td>...</td>\n",
       "      <td>s</td>\n",
       "      <td>w</td>\n",
       "      <td>w</td>\n",
       "      <td>p</td>\n",
       "      <td>w</td>\n",
       "      <td>o</td>\n",
       "      <td>e</td>\n",
       "      <td>n</td>\n",
       "      <td>a</td>\n",
       "      <td>g</td>\n",
       "    </tr>\n",
       "  </tbody>\n",
       "</table>\n",
       "<p>5 rows × 23 columns</p>\n",
       "</div>"
      ],
      "text/plain": [
       "  Unnamed: 0 Unnamed: 1 Unnamed: 2 Unnamed: 3 Unnamed: 4 Unnamed: 5  \\\n",
       "0          p          x          s          n          t          p   \n",
       "1          e          x          s          y          t          a   \n",
       "2          e          b          s          w          t          l   \n",
       "3          p          x          y          w          t          p   \n",
       "4          e          x          s          g          f          n   \n",
       "\n",
       "  Unnamed: 6 Unnamed: 7 Unnamed: 8 Unnamed: 9  ... Unnamed: 13 Unnamed: 14  \\\n",
       "0          f          c          n          k  ...           s           w   \n",
       "1          f          c          b          k  ...           s           w   \n",
       "2          f          c          b          n  ...           s           w   \n",
       "3          f          c          n          n  ...           s           w   \n",
       "4          f          w          b          k  ...           s           w   \n",
       "\n",
       "  Unnamed: 15 Unnamed: 16 Unnamed: 17 Unnamed: 18 Unnamed: 19 Unnamed: 20  \\\n",
       "0           w           p           w           o           p           k   \n",
       "1           w           p           w           o           p           n   \n",
       "2           w           p           w           o           p           n   \n",
       "3           w           p           w           o           p           k   \n",
       "4           w           p           w           o           e           n   \n",
       "\n",
       "  Unnamed: 21 Unnamed: 22  \n",
       "0           s           u  \n",
       "1           n           g  \n",
       "2           n           m  \n",
       "3           s           u  \n",
       "4           a           g  \n",
       "\n",
       "[5 rows x 23 columns]"
      ]
     },
     "execution_count": 4,
     "metadata": {},
     "output_type": "execute_result"
    }
   ],
   "source": [
    "df.head()"
   ]
  },
  {
   "cell_type": "code",
   "execution_count": 5,
   "id": "198748d7",
   "metadata": {},
   "outputs": [
    {
     "data": {
      "text/plain": [
       "(8124, 23)"
      ]
     },
     "execution_count": 5,
     "metadata": {},
     "output_type": "execute_result"
    }
   ],
   "source": [
    "#%% Label-encoder\n",
    "temp=df\n",
    "for i in range(len(df.iloc[0])):\n",
    "    col=df.iloc[:,i]\n",
    "    le = preprocessing.LabelEncoder()\n",
    "    le.fit(col)\n",
    "    col=le.transform(col)\n",
    "    temp.iloc[:,i]=col\n",
    "    Data=np.array(temp)\n",
    "Data_lable=Data[:,0]\n",
    "Data_main=Data[:,1:]\n",
    "Data.shape"
   ]
  },
  {
   "cell_type": "code",
   "execution_count": 6,
   "id": "11b57310",
   "metadata": {},
   "outputs": [
    {
     "name": "stdout",
     "output_type": "stream",
     "text": [
      "[[1 5 2 ... 2 3 5]\n",
      " [0 5 2 ... 3 2 1]\n",
      " [0 0 2 ... 3 2 3]\n",
      " ...\n",
      " [0 2 2 ... 0 1 2]\n",
      " [1 3 3 ... 7 4 2]\n",
      " [0 5 2 ... 4 1 2]]\n"
     ]
    }
   ],
   "source": [
    "print(Data)"
   ]
  },
  {
   "cell_type": "code",
   "execution_count": 13,
   "id": "623ac2f5",
   "metadata": {},
   "outputs": [
    {
     "name": "stdout",
     "output_type": "stream",
     "text": [
      "The confusion matrix is:\n",
      " [[1206   30]\n",
      " [  15 1187]]\n",
      " The accuracy is ：98.15422477440525%\n",
      " The recall is ：98.75207986688852%\n",
      " The precision  is ：97.53492193919475%\n"
     ]
    }
   ],
   "source": [
    "#DecisionTreeClassifier\n",
    "\n",
    "Train_data, Test_data, Train_lable, Test_lable = train_test_split(Data_main, Data_lable, test_size=0.30, random_state = 1)\n",
    "\n",
    "decision_tree = DecisionTreeClassifier(random_state=1, max_depth=5)\n",
    "decision_tree = decision_tree.fit(Train_data, Train_lable)\n",
    "Test_predict = decision_tree.predict(Test_data)\n",
    "\n",
    "Con_matrix=confusion_matrix(Test_lable, Test_predict)\n",
    "print(\"The confusion matrix is:\\n\",Con_matrix)\n",
    "\n",
    "tn, fp, fn, tp = confusion_matrix(Test_lable, Test_predict,labels=[0,1]).ravel()\n",
    "𝑎𝑐𝑐𝑢𝑟𝑎𝑐𝑦 = (tn+tp)/(tn+tp+fn+fp)\n",
    "recall = (tp)/(tp+fn)\n",
    "precision = (tp)/(tp+fp)\n",
    "\n",
    "print(\" The accuracy is ：{}%\".format(accuracy*100))\n",
    "print(\" The recall is ：{}%\".format(recall*100))\n",
    "print(\" The precision  is ：{}%\".format(precision*100))"
   ]
  },
  {
   "cell_type": "code",
   "execution_count": 14,
   "id": "3edf6637",
   "metadata": {},
   "outputs": [
    {
     "data": {
      "image/png": "[encoded data removed]",
      "text/plain": [
       "<Figure size 1296x576 with 1 Axes>"
      ]
     },
     "metadata": {
      "needs_background": "light"
     },
     "output_type": "display_data"
    }
   ],
   "source": [
    "from sklearn.tree import plot_tree\n",
    "plt.figure(figsize=(18,8))\n",
    "plot_tree(decision_tree)\n",
    "plt.show()"
   ]
  },
  {
   "cell_type": "code",
   "execution_count": null,
   "id": "78629dfe",
   "metadata": {},
   "outputs": [],
   "source": []
  }
 ],
 "metadata": {
  "kernelspec": {
   "display_name": "Python 3 (ipykernel)",
   "language": "python",
   "name": "python3"
  },
  "language_info": {
   "codemirror_mode": {
    "name": "ipython",
    "version": 3
   },
   "file_extension": ".py",
   "mimetype": "text/x-python",
   "name": "python",
   "nbconvert_exporter": "python",
   "pygments_lexer": "ipython3",
   "version": "3.9.7"
  }
 },
 "nbformat": 4,
 "nbformat_minor": 5
}
